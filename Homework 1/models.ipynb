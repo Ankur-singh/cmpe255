{
 "cells": [
  {
   "cell_type": "code",
   "execution_count": null,
   "metadata": {},
   "outputs": [],
   "source": [
    "# https://intel.github.io/scikit-learn-intelex/algorithms.html#scikit-learn-tests"
   ]
  },
  {
   "cell_type": "code",
   "execution_count": 1,
   "metadata": {},
   "outputs": [],
   "source": [
    "from sklearn.svm import SVC, NuSVC, SVR, NuSVR\n",
    "from sklearn.ensemble import RandomForestClassifier, RandomForestRegressor\n",
    "from sklearn.linear_model import LinearRegression, LogisticRegression, Ridge, Lasso, ElasticNet\n",
    "from sklearn.neighbors import KNeighborsClassifier, KNeighborsRegressor\n",
    "\n",
    "from sklearn.datasets import load_breast_cancer\n",
    "from sklearn.model_selection import train_test_split\n",
    "\n",
    "from model import Regressor, Classifier"
   ]
  },
  {
   "cell_type": "code",
   "execution_count": 2,
   "metadata": {},
   "outputs": [],
   "source": [
    "REGRESSORS = [SVR(), \n",
    "                NuSVR(), \n",
    "                RandomForestRegressor(warm_start=False, criterion='mse'), \n",
    "                KNeighborsRegressor(metric='euclidean'),\n",
    "                LinearRegression(normalize=False),\n",
    "                Ridge(solver='auto', normalize=False),\n",
    "                Lasso(),\n",
    "                ElasticNet(),\n",
    "            ]\n",
    "\n",
    "CLASSIFIERS = [SVC(), \n",
    "                NuSVC(), \n",
    "                RandomForestClassifier(warm_start = False, criterion = 'gini'), \n",
    "                KNeighborsClassifier(metric='euclidean'),\n",
    "                LogisticRegression(solver='lbfgs', class_weight=None), \n",
    "            ]"
   ]
  },
  {
   "cell_type": "code",
   "execution_count": 3,
   "metadata": {},
   "outputs": [
    {
     "data": {
      "text/plain": [
       "[SVC(),\n",
       " NuSVC(),\n",
       " RandomForestClassifier(),\n",
       " KNeighborsClassifier(metric='euclidean'),\n",
       " LogisticRegression()]"
      ]
     },
     "execution_count": 3,
     "metadata": {},
     "output_type": "execute_result"
    }
   ],
   "source": [
    "clf = Classifier(verbose=0,ignore_warnings=True, custom_metric=None)\n",
    "clf.classifiers = CLASSIFIERS\n",
    "clf.classifiers"
   ]
  },
  {
   "cell_type": "code",
   "execution_count": 4,
   "metadata": {},
   "outputs": [],
   "source": [
    "data = load_breast_cancer()\n",
    "X = data.data\n",
    "y= data.target\n",
    "X_train, X_test, y_train, y_test = train_test_split(X, y, test_size=.5, random_state =123)"
   ]
  },
  {
   "cell_type": "code",
   "execution_count": 5,
   "metadata": {},
   "outputs": [
    {
     "name": "stdout",
     "output_type": "stream",
     "text": [
      "[('SVC', SVC()), ('NuSVC', NuSVC()), ('RandomForestClassifier', RandomForestClassifier()), ('KNeighborsClassifier', KNeighborsClassifier(metric='euclidean')), ('LogisticRegression', LogisticRegression())]\n"
     ]
    },
    {
     "name": "stderr",
     "output_type": "stream",
     "text": [
      "100%|██████████| 5/5 [00:00<00:00, 40.58it/s]\n"
     ]
    },
    {
     "data": {
      "text/html": [
       "<div>\n",
       "<style scoped>\n",
       "    .dataframe tbody tr th:only-of-type {\n",
       "        vertical-align: middle;\n",
       "    }\n",
       "\n",
       "    .dataframe tbody tr th {\n",
       "        vertical-align: top;\n",
       "    }\n",
       "\n",
       "    .dataframe thead th {\n",
       "        text-align: right;\n",
       "    }\n",
       "</style>\n",
       "<table border=\"1\" class=\"dataframe\">\n",
       "  <thead>\n",
       "    <tr style=\"text-align: right;\">\n",
       "      <th></th>\n",
       "      <th>Accuracy</th>\n",
       "      <th>Balanced Accuracy</th>\n",
       "      <th>ROC AUC</th>\n",
       "      <th>F1 Score</th>\n",
       "      <th>Time Taken</th>\n",
       "    </tr>\n",
       "    <tr>\n",
       "      <th>Model</th>\n",
       "      <th></th>\n",
       "      <th></th>\n",
       "      <th></th>\n",
       "      <th></th>\n",
       "      <th></th>\n",
       "    </tr>\n",
       "  </thead>\n",
       "  <tbody>\n",
       "    <tr>\n",
       "      <th>LogisticRegression</th>\n",
       "      <td>0.99</td>\n",
       "      <td>0.98</td>\n",
       "      <td>0.98</td>\n",
       "      <td>0.99</td>\n",
       "      <td>0.02</td>\n",
       "    </tr>\n",
       "    <tr>\n",
       "      <th>SVC</th>\n",
       "      <td>0.98</td>\n",
       "      <td>0.98</td>\n",
       "      <td>0.98</td>\n",
       "      <td>0.98</td>\n",
       "      <td>0.01</td>\n",
       "    </tr>\n",
       "    <tr>\n",
       "      <th>RandomForestClassifier</th>\n",
       "      <td>0.97</td>\n",
       "      <td>0.97</td>\n",
       "      <td>0.97</td>\n",
       "      <td>0.97</td>\n",
       "      <td>0.07</td>\n",
       "    </tr>\n",
       "    <tr>\n",
       "      <th>KNeighborsClassifier</th>\n",
       "      <td>0.96</td>\n",
       "      <td>0.96</td>\n",
       "      <td>0.96</td>\n",
       "      <td>0.96</td>\n",
       "      <td>0.01</td>\n",
       "    </tr>\n",
       "    <tr>\n",
       "      <th>NuSVC</th>\n",
       "      <td>0.95</td>\n",
       "      <td>0.94</td>\n",
       "      <td>0.94</td>\n",
       "      <td>0.95</td>\n",
       "      <td>0.01</td>\n",
       "    </tr>\n",
       "  </tbody>\n",
       "</table>\n",
       "</div>"
      ],
      "text/plain": [
       "                        Accuracy  Balanced Accuracy  ROC AUC  F1 Score  \\\n",
       "Model                                                                    \n",
       "LogisticRegression          0.99               0.98     0.98      0.99   \n",
       "SVC                         0.98               0.98     0.98      0.98   \n",
       "RandomForestClassifier      0.97               0.97     0.97      0.97   \n",
       "KNeighborsClassifier        0.96               0.96     0.96      0.96   \n",
       "NuSVC                       0.95               0.94     0.94      0.95   \n",
       "\n",
       "                        Time Taken  \n",
       "Model                               \n",
       "LogisticRegression            0.02  \n",
       "SVC                           0.01  \n",
       "RandomForestClassifier        0.07  \n",
       "KNeighborsClassifier          0.01  \n",
       "NuSVC                         0.01  "
      ]
     },
     "execution_count": 5,
     "metadata": {},
     "output_type": "execute_result"
    }
   ],
   "source": [
    "models,predictions = clf.fit(X_train, X_test, y_train, y_test)\n",
    "models"
   ]
  },
  {
   "cell_type": "code",
   "execution_count": null,
   "metadata": {},
   "outputs": [],
   "source": []
  }
 ],
 "metadata": {
  "kernelspec": {
   "display_name": "Python 3.9.13 ('intel')",
   "language": "python",
   "name": "python3"
  },
  "language_info": {
   "codemirror_mode": {
    "name": "ipython",
    "version": 3
   },
   "file_extension": ".py",
   "mimetype": "text/x-python",
   "name": "python",
   "nbconvert_exporter": "python",
   "pygments_lexer": "ipython3",
   "version": "3.9.13"
  },
  "orig_nbformat": 4,
  "vscode": {
   "interpreter": {
    "hash": "84e8b85765152ba38777889eb6711d1c01facc29f09e47cb010d977eefd9dc40"
   }
  }
 },
 "nbformat": 4,
 "nbformat_minor": 2
}
